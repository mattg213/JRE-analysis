{
 "cells": [
  {
   "cell_type": "code",
   "execution_count": null,
   "metadata": {},
   "outputs": [],
   "source": [
    "import spotipy\n",
    "from spotipy.oauth2 import SpotifyClientCredentials\n",
    "from api_keys import client_id, client_secret\n",
    "\n",
    "import pandas as pd\n",
    "import re\n",
    "\n",
    "sp = spotipy.Spotify(auth_manager=SpotifyClientCredentials(client_id=client_id, client_secret=client_secret))"
   ]
  },
  {
   "attachments": {},
   "cell_type": "markdown",
   "metadata": {},
   "source": [
    "# Load in all spotify data"
   ]
  },
  {
   "cell_type": "code",
   "execution_count": null,
   "metadata": {},
   "outputs": [],
   "source": [
    "# Get total number of episodes for the show\n",
    "\n",
    "show_id = '4rOoJ6Egrf8K2IrywzwOMk'\n",
    "podcast = sp.show(show_id=show_id, market='US')\n",
    "\n",
    "total_episodes = podcast['total_episodes']\n",
    "\n",
    "print(total_episodes)"
   ]
  },
  {
   "cell_type": "code",
   "execution_count": null,
   "metadata": {},
   "outputs": [],
   "source": [
    "# Get data for all shows\n",
    "showNum = 0\n",
    "data = []\n",
    "# Pagination for show requests\n",
    "while showNum <= total_episodes:\n",
    "    print(\"Current Show Count: \", showNum)\n",
    "    result = sp.show_episodes(show_id=show_id, limit=50, offset=showNum, market='US')\n",
    "\n",
    "    episodes = result['items']\n",
    "\n",
    "    # Loop through the 50 episodes requested\n",
    "    for episode in episodes:\n",
    "        title = episode['name']\n",
    "        description = episode['description']\n",
    "        duration_ms = episode['duration_ms']\n",
    "        release_date = episode['release_date']\n",
    "        \n",
    "        myEpisode = {\n",
    "            'title' : title,\n",
    "            'description' : description,\n",
    "            'duration_ms' : duration_ms,\n",
    "            'release_date' : release_date\n",
    "        }\n",
    "        \n",
    "        data.append(myEpisode)\n",
    "    showNum += 50\n",
    "\n",
    "print(len(data))"
   ]
  },
  {
   "attachments": {},
   "cell_type": "markdown",
   "metadata": {},
   "source": [
    "# Create dataframe and format"
   ]
  },
  {
   "cell_type": "code",
   "execution_count": null,
   "metadata": {},
   "outputs": [],
   "source": [
    "# Create DF from data\n",
    "df = pd.DataFrame(data)\n",
    "df.head()"
   ]
  },
  {
   "cell_type": "code",
   "execution_count": null,
   "metadata": {},
   "outputs": [],
   "source": [
    "# Change MS column to Seconds\n",
    "df['duration_ms'] = df['duration_ms'].apply(lambda x: float(x / 60000)).round(decimals=2)\n",
    "df.head()"
   ]
  },
  {
   "cell_type": "code",
   "execution_count": null,
   "metadata": {},
   "outputs": [],
   "source": [
    "# Rename Columns\n",
    "df = df.rename(columns={'duration_ms' : 'duration_seconds'})"
   ]
  },
  {
   "cell_type": "code",
   "execution_count": null,
   "metadata": {},
   "outputs": [],
   "source": [
    "# Find guest in show\n",
    "guests = []\n",
    "for row in df['title']:\n",
    "    guest = re.findall(r\"[A-Z][a-z]+,?\\s+(?:[A-Z][a-z]*\\.?\\s*)?[A-Z][a-z]+\", row)\n",
    "    if guest:\n",
    "         guests.append(guest[0])\n",
    "    else:\n",
    "        guests.append(pd.NaT)\n",
    "df['guest'] = guests\n",
    "df.head()"
   ]
  },
  {
   "cell_type": "code",
   "execution_count": null,
   "metadata": {},
   "outputs": [],
   "source": [
    "df['guest'].count"
   ]
  },
  {
   "cell_type": "code",
   "execution_count": null,
   "metadata": {},
   "outputs": [],
   "source": [
    "df.dropna()"
   ]
  },
  {
   "cell_type": "code",
   "execution_count": null,
   "metadata": {},
   "outputs": [],
   "source": [
    "# Split release date into seperate columns\\n,\n",
    "df['release_date'] = df['release_date'].astype('datetime64[ns]')\n",
    "df['day'] = df['release_date'].map(lambda x: x.day)\n",
    "df['month'] = df['release_date'].map(lambda x: x.month)\n",
    "df['year'] = df['release_date'].map(lambda x: x.year)\n",
    "df.head()"
   ]
  },
  {
   "cell_type": "code",
   "execution_count": null,
   "metadata": {},
   "outputs": [],
   "source": [
    "keywords = [\n",
    "    'comedian',\n",
    "    'comic',\n",
    "    \"phd\",\n",
    "    'actor',\n",
    "    'writer',\n",
    "    'author',\n",
    "    'ufc',\n",
    "    'mma',\n",
    "    'musician',\n",
    "    'artist',\n",
    "    'founder',\n",
    "    'youtuber',\n",
    "    'podcast',\n",
    "    'ceo',\n",
    "    'philanthropist',\n",
    "    'singer/songwriter',\n",
    "    'screenwriter',\n",
    "    'scientist',\n",
    "    'co-host',\n",
    "    'journalist',\n",
    "    'entrepreneur',\n",
    "    'astrophysicist',\n",
    "    'politician',\n",
    "    'pilot',\n",
    "    'fighter'\n",
    "]"
   ]
  },
  {
   "cell_type": "code",
   "execution_count": null,
   "metadata": {},
   "outputs": [],
   "source": [
    "dataset = []\n",
    "for desc in df['description']:\n",
    "    newDesc = desc.lower()\n",
    "    newDesc = newDesc.replace(',', '')\n",
    "    newDesc = newDesc.replace('.', '')\n",
    "    split = set(newDesc.split())\n",
    "    found = split.intersection(keywords) \n",
    "    if found:\n",
    "        dataset.append(found)\n",
    "    else:\n",
    "        dataset.append(pd.NaT)\n",
    "    \n",
    "df['category'] = dataset\n",
    "df.head()"
   ]
  },
  {
   "cell_type": "code",
   "execution_count": null,
   "metadata": {},
   "outputs": [],
   "source": [
    "df = df.dropna()"
   ]
  },
  {
   "cell_type": "code",
   "execution_count": null,
   "metadata": {},
   "outputs": [],
   "source": [
    "df.tail()"
   ]
  },
  {
   "cell_type": "code",
   "execution_count": null,
   "metadata": {},
   "outputs": [],
   "source": [
    "category_subsets = {\n",
    "    'comedy'   : ['comedian', 'comic', 'stand-up'],\n",
    "    'science'  : ['phd', 'astrophysicist', 'scientist'],\n",
    "    'music'    : ['singer/songwriter', 'musician', 'artist'],\n",
    "    'sports'   : ['mma', 'ufc', 'nfl', 'mlb', 'nba', 'nhl', 'fighter'],\n",
    "    'business' : ['founder', 'entrepreneur', 'ceo'],\n",
    "    'movies'   : ['actor', 'screenwriter'],\n",
    "    'writer'   : ['author', 'writer']\n",
    "}\n",
    "\n",
    "catList = ['comedy', 'science', 'music', 'sports', 'business', 'movies', 'writer']"
   ]
  },
  {
   "cell_type": "code",
   "execution_count": 145,
   "metadata": {},
   "outputs": [
    {
     "name": "stdout",
     "output_type": "stream",
     "text": [
      "{'comedy': 564, 'science': 59, 'music': 140, 'sports': 165, 'business': 165, 'movies': 320, 'writer': 511}\n"
     ]
    }
   ],
   "source": [
    "\n",
    "category_counts = {\n",
    "    'comedy' : 0,\n",
    "    'science' : 0,\n",
    "    'music' : 0,\n",
    "    'sports' : 0,\n",
    "    'business' : 0,\n",
    "    'movies' : 0,\n",
    "    'writer' : 0\n",
    "}\n",
    "\n",
    "category_found = {\n",
    "    'comedy' : False,\n",
    "    'science' : False,\n",
    "    'music' : False,\n",
    "    'sports' : False,\n",
    "    'business' : False,\n",
    "    'movies' : False,\n",
    "    'writer' : False\n",
    "}\n",
    "\n",
    "\n",
    "for column in df['category']:\n",
    "    for cat in column:\n",
    "        for mainCat in catList:\n",
    "            if cat in category_subsets[mainCat] and not category_found[mainCat]:\n",
    "                category_counts[mainCat] += 1\n",
    "                category_found[mainCat] = True\n",
    "    \n",
    "    changeListToFalse(category_found)       \n",
    "            \n",
    "    \n",
    "    \n",
    "print(category_counts)"
   ]
  },
  {
   "cell_type": "code",
   "execution_count": 149,
   "metadata": {},
   "outputs": [
    {
     "data": {
      "text/html": [
       "<div>\n",
       "<style scoped>\n",
       "    .dataframe tbody tr th:only-of-type {\n",
       "        vertical-align: middle;\n",
       "    }\n",
       "\n",
       "    .dataframe tbody tr th {\n",
       "        vertical-align: top;\n",
       "    }\n",
       "\n",
       "    .dataframe thead th {\n",
       "        text-align: right;\n",
       "    }\n",
       "</style>\n",
       "<table border=\"1\" class=\"dataframe\">\n",
       "  <thead>\n",
       "    <tr style=\"text-align: right;\">\n",
       "      <th></th>\n",
       "      <th>title</th>\n",
       "      <th>description</th>\n",
       "      <th>duration_seconds</th>\n",
       "      <th>release_date</th>\n",
       "      <th>guest</th>\n",
       "      <th>day</th>\n",
       "      <th>month</th>\n",
       "      <th>year</th>\n",
       "      <th>category</th>\n",
       "    </tr>\n",
       "  </thead>\n",
       "  <tbody>\n",
       "    <tr>\n",
       "      <th>559</th>\n",
       "      <td>#329 - Duncan Trussell</td>\n",
       "      <td>Duncan Trussell is a stand-up comedian, and ho...</td>\n",
       "      <td>135.86</td>\n",
       "      <td>2013-02-26</td>\n",
       "      <td>Duncan Trussell</td>\n",
       "      <td>26</td>\n",
       "      <td>2</td>\n",
       "      <td>2013</td>\n",
       "      <td>{comedian, podcast}</td>\n",
       "    </tr>\n",
       "    <tr>\n",
       "      <th>560</th>\n",
       "      <td>#326 - Bryan Callen</td>\n",
       "      <td>Bryan Callen is an actor, stand-up comedian, a...</td>\n",
       "      <td>155.75</td>\n",
       "      <td>2013-02-20</td>\n",
       "      <td>Bryan Callen</td>\n",
       "      <td>20</td>\n",
       "      <td>2</td>\n",
       "      <td>2013</td>\n",
       "      <td>{comedian, actor, podcast}</td>\n",
       "    </tr>\n",
       "    <tr>\n",
       "      <th>561</th>\n",
       "      <td>#322 - Ari Shaffir</td>\n",
       "      <td>Ari Shaffir is a stand-up comedian and host of...</td>\n",
       "      <td>145.99</td>\n",
       "      <td>2013-02-05</td>\n",
       "      <td>Ari Shaffir</td>\n",
       "      <td>5</td>\n",
       "      <td>2</td>\n",
       "      <td>2013</td>\n",
       "      <td>{comedian}</td>\n",
       "    </tr>\n",
       "    <tr>\n",
       "      <th>562</th>\n",
       "      <td>#317 - David Choe, Yoshi Obayashi</td>\n",
       "      <td>David Choe is an American painter, muralist, g...</td>\n",
       "      <td>139.11</td>\n",
       "      <td>2013-01-22</td>\n",
       "      <td>David Choe</td>\n",
       "      <td>22</td>\n",
       "      <td>1</td>\n",
       "      <td>2013</td>\n",
       "      <td>{comedian, podcast, artist}</td>\n",
       "    </tr>\n",
       "    <tr>\n",
       "      <th>563</th>\n",
       "      <td>#307 - Bryan Callen</td>\n",
       "      <td>Bryan Callen is an actor, stand-up comedian, a...</td>\n",
       "      <td>161.48</td>\n",
       "      <td>2013-01-04</td>\n",
       "      <td>Bryan Callen</td>\n",
       "      <td>4</td>\n",
       "      <td>1</td>\n",
       "      <td>2013</td>\n",
       "      <td>{comedian, actor, podcast}</td>\n",
       "    </tr>\n",
       "  </tbody>\n",
       "</table>\n",
       "</div>"
      ],
      "text/plain": [
       "                                 title  \\\n",
       "559             #329 - Duncan Trussell   \n",
       "560                #326 - Bryan Callen   \n",
       "561                 #322 - Ari Shaffir   \n",
       "562  #317 - David Choe, Yoshi Obayashi   \n",
       "563                #307 - Bryan Callen   \n",
       "\n",
       "                                           description  duration_seconds  \\\n",
       "559  Duncan Trussell is a stand-up comedian, and ho...            135.86   \n",
       "560  Bryan Callen is an actor, stand-up comedian, a...            155.75   \n",
       "561  Ari Shaffir is a stand-up comedian and host of...            145.99   \n",
       "562  David Choe is an American painter, muralist, g...            139.11   \n",
       "563  Bryan Callen is an actor, stand-up comedian, a...            161.48   \n",
       "\n",
       "    release_date            guest  day  month  year  \\\n",
       "559   2013-02-26  Duncan Trussell   26      2  2013   \n",
       "560   2013-02-20     Bryan Callen   20      2  2013   \n",
       "561   2013-02-05      Ari Shaffir    5      2  2013   \n",
       "562   2013-01-22       David Choe   22      1  2013   \n",
       "563   2013-01-04     Bryan Callen    4      1  2013   \n",
       "\n",
       "                        category  \n",
       "559          {comedian, podcast}  \n",
       "560   {comedian, actor, podcast}  \n",
       "561                   {comedian}  \n",
       "562  {comedian, podcast, artist}  \n",
       "563   {comedian, actor, podcast}  "
      ]
     },
     "execution_count": 149,
     "metadata": {},
     "output_type": "execute_result"
    }
   ],
   "source": [
    "# I want comedy\n",
    "\n",
    "comedyDF = pd.DataFrame(columns=['title','description','duration_seconds','release_date','guest','day','month','year','category'])\n",
    "\n",
    "titleArr = []\n",
    "descArr = []\n",
    "durArr = []\n",
    "releaseArr = []\n",
    "guestArr = []\n",
    "dayArr = []\n",
    "monthArr = []\n",
    "yearArr = []\n",
    "categoryArr = []\n",
    "\n",
    "sum = 0\n",
    "\n",
    "for index, row in df.iterrows():\n",
    "    \n",
    "    for cat in row['category']:\n",
    "        \n",
    "        if cat in category_subsets['comedy'] and not category_found['comedy']:\n",
    "                \n",
    "            sum += 1\n",
    "            category_found['comedy'] = True\n",
    "            \n",
    "            titleArr.append(row['title'])\n",
    "            descArr.append(row['description'])\n",
    "            durArr.append(row['duration_seconds'])\n",
    "            releaseArr.append(row['release_date'])\n",
    "            guestArr.append(row['guest'])\n",
    "            dayArr.append(row['day'])\n",
    "            monthArr.append(row['month'])\n",
    "            yearArr.append(row['year'])\n",
    "            categoryArr.append(row['category'])\n",
    "    \n",
    "                \n",
    "    changeListToFalse(category_found)\n",
    "\n",
    "comedyDF['title'] = titleArr\n",
    "comedyDF['description'] = descArr\n",
    "comedyDF['duration_seconds'] = durArr\n",
    "comedyDF['release_date'] = releaseArr\n",
    "comedyDF['guest'] = guestArr\n",
    "comedyDF['day'] = dayArr\n",
    "comedyDF['month'] = monthArr\n",
    "comedyDF['year'] = yearArr\n",
    "comedyDF['category'] = categoryArr\n",
    "\n",
    "comedyDF.tail()"
   ]
  },
  {
   "attachments": {},
   "cell_type": "markdown",
   "metadata": {},
   "source": [
    "# Save and Load CSV Files"
   ]
  },
  {
   "cell_type": "code",
   "execution_count": null,
   "metadata": {},
   "outputs": [],
   "source": [
    "# Save to CSV To Reuse\n",
    "df.to_csv('data_files/podcast_data.csv', index=False)"
   ]
  },
  {
   "cell_type": "code",
   "execution_count": null,
   "metadata": {},
   "outputs": [],
   "source": [
    "# Pull Shows From CSV\n",
    "df = pd.read_csv('data_files/podcast_data.csv')\n",
    "df.head()"
   ]
  },
  {
   "cell_type": "code",
   "execution_count": null,
   "metadata": {},
   "outputs": [],
   "source": []
  }
 ],
 "metadata": {
  "kernelspec": {
   "display_name": "Python 3",
   "language": "python",
   "name": "python3"
  },
  "language_info": {
   "codemirror_mode": {
    "name": "ipython",
    "version": 3
   },
   "file_extension": ".py",
   "mimetype": "text/x-python",
   "name": "python",
   "nbconvert_exporter": "python",
   "pygments_lexer": "ipython3",
   "version": "3.11.2"
  },
  "orig_nbformat": 4
 },
 "nbformat": 4,
 "nbformat_minor": 2
}
