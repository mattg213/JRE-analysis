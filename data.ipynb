{
 "cells": [
  {
   "cell_type": "code",
   "execution_count": null,
   "metadata": {},
   "outputs": [],
   "source": [
    "import spotipy\n",
    "from spotipy.oauth2 import SpotifyClientCredentials\n",
    "from api_keys import client_id, client_secret\n",
    "\n",
    "import pandas as pd\n",
    "import re\n",
    "\n",
    "sp = spotipy.Spotify(auth_manager=SpotifyClientCredentials(client_id=client_id, client_secret=client_secret))"
   ]
  },
  {
   "attachments": {},
   "cell_type": "markdown",
   "metadata": {},
   "source": [
    "# Load in all spotify data"
   ]
  },
  {
   "cell_type": "code",
   "execution_count": null,
   "metadata": {},
   "outputs": [],
   "source": [
    "# Get total number of episodes for the show\n",
    "\n",
    "show_id = '4rOoJ6Egrf8K2IrywzwOMk'\n",
    "podcast = sp.show(show_id=show_id, market='US')\n",
    "\n",
    "total_episodes = podcast['total_episodes']\n",
    "\n",
    "print(total_episodes)"
   ]
  },
  {
   "cell_type": "code",
   "execution_count": null,
   "metadata": {},
   "outputs": [],
   "source": [
    "# Get data for all shows\n",
    "showNum = 0\n",
    "data = []\n",
    "# Pagination for show requests\n",
    "while showNum <= total_episodes:\n",
    "    print(\"Current Show Count: \", showNum)\n",
    "    result = sp.show_episodes(show_id=show_id, limit=50, offset=showNum, market='US')\n",
    "\n",
    "    episodes = result['items']\n",
    "\n",
    "    # Loop through the 50 episodes requested\n",
    "    for episode in episodes:\n",
    "        title = episode['name']\n",
    "        description = episode['description']\n",
    "        duration_ms = episode['duration_ms']\n",
    "        release_date = episode['release_date']\n",
    "        \n",
    "        myEpisode = {\n",
    "            'title' : title,\n",
    "            'description' : description,\n",
    "            'duration_ms' : duration_ms,\n",
    "            'release_date' : release_date\n",
    "        }\n",
    "        \n",
    "        data.append(myEpisode)\n",
    "    showNum += 50\n",
    "\n",
    "print(len(data))"
   ]
  },
  {
   "attachments": {},
   "cell_type": "markdown",
   "metadata": {},
   "source": [
    "# Create dataframe and format"
   ]
  },
  {
   "cell_type": "code",
   "execution_count": null,
   "metadata": {},
   "outputs": [],
   "source": [
    "# Create DF from data\n",
    "df = pd.DataFrame(data)\n",
    "df.head()"
   ]
  },
  {
   "cell_type": "code",
   "execution_count": null,
   "metadata": {},
   "outputs": [],
   "source": [
    "# Change MS column to Seconds\n",
    "df['duration_ms'] = df['duration_ms'].apply(lambda x: float(x / 60000)).round(decimals=2)\n",
    "df.head()"
   ]
  },
  {
   "cell_type": "code",
   "execution_count": null,
   "metadata": {},
   "outputs": [],
   "source": [
    "# Rename Columns\n",
    "df = df.rename(columns={'duration_ms' : 'duration_seconds'})"
   ]
  },
  {
   "cell_type": "code",
   "execution_count": null,
   "metadata": {},
   "outputs": [],
   "source": [
    "# Find guest in show\n",
    "guests = []\n",
    "for row in df['title']:\n",
    "    guest = re.findall(r\"[A-Z][a-z]+,?\\s+(?:[A-Z][a-z]*\\.?\\s*)?[A-Z][a-z]+\", row)\n",
    "    if guest:\n",
    "         guests.append(guest[0])\n",
    "    else:\n",
    "        guests.append(pd.NaT)\n",
    "df['guest'] = guests\n",
    "df.head()"
   ]
  },
  {
   "cell_type": "code",
   "execution_count": null,
   "metadata": {},
   "outputs": [],
   "source": [
    "df['guest'].count"
   ]
  },
  {
   "cell_type": "code",
   "execution_count": null,
   "metadata": {},
   "outputs": [],
   "source": [
    "df.dropna()"
   ]
  },
  {
   "cell_type": "code",
   "execution_count": null,
   "metadata": {},
   "outputs": [],
   "source": [
    "# Split release date into seperate columns\\n,\n",
    "df['release_date'] = df['release_date'].astype('datetime64[ns]')\n",
    "df['day'] = df['release_date'].map(lambda x: x.day)\n",
    "df['month'] = df['release_date'].map(lambda x: x.month)\n",
    "df['year'] = df['release_date'].map(lambda x: x.year)\n",
    "df.head()"
   ]
  },
  {
   "cell_type": "code",
   "execution_count": null,
   "metadata": {},
   "outputs": [],
   "source": [
    "keywords = [\n",
    "    'comedian',\n",
    "    'comic',\n",
    "    \"phd\",\n",
    "    'actor',\n",
    "    'writer',\n",
    "    'author',\n",
    "    'ufc',\n",
    "    'mma',\n",
    "    'musician',\n",
    "    'artist',\n",
    "    'founder',\n",
    "    'youtuber',\n",
    "    'podcast',\n",
    "    'ceo',\n",
    "    'philanthropist',\n",
    "    'singer/songwriter',\n",
    "    'screenwriter',\n",
    "    'scientist',\n",
    "    'co-host',\n",
    "    'journalist',\n",
    "    'entrepreneur',\n",
    "    'astrophysicist',\n",
    "    'politician',\n",
    "    'pilot',\n",
    "    'fighter'\n",
    "]"
   ]
  },
  {
   "cell_type": "code",
   "execution_count": null,
   "metadata": {},
   "outputs": [],
   "source": [
    "dataset = []\n",
    "for desc in df['description']:\n",
    "    newDesc = desc.lower()\n",
    "    newDesc = newDesc.replace(',', '')\n",
    "    newDesc = newDesc.replace('.', '')\n",
    "    split = set(newDesc.split())\n",
    "    found = split.intersection(keywords) \n",
    "    if found:\n",
    "        dataset.append(found)\n",
    "    else:\n",
    "        dataset.append(pd.NaT)\n",
    "    \n",
    "df['category'] = dataset\n",
    "df.head()"
   ]
  },
  {
   "cell_type": "code",
   "execution_count": null,
   "metadata": {},
   "outputs": [],
   "source": [
    "df = df.dropna()"
   ]
  },
  {
   "cell_type": "code",
   "execution_count": null,
   "metadata": {},
   "outputs": [],
   "source": [
    "df.tail()"
   ]
  },
  {
   "cell_type": "code",
   "execution_count": null,
   "metadata": {},
   "outputs": [],
   "source": [
    "category_subsets = {\n",
    "    'comedy'   : ['comedian', 'comic', 'stand-up'],\n",
    "    'science'  : ['phd', 'astrophysicist', 'scientist'],\n",
    "    'music'    : ['singer/songwriter', 'musician', 'artist'],\n",
    "    'sports'   : ['mma', 'ufc', 'nfl', 'mlb', 'nba', 'nhl', 'fighter'],\n",
    "    'business' : ['founder', 'entrepreneur', 'ceo'],\n",
    "    'movies'   : ['actor', 'screenwriter'],\n",
    "    'writer'   : ['author', 'writer']\n",
    "}\n",
    "\n",
    "catList = ['comedy', 'science', 'music', 'sports', 'business', 'movies', 'writer']"
   ]
  },
  {
   "cell_type": "code",
   "execution_count": null,
   "metadata": {},
   "outputs": [],
   "source": [
    "def changeListToFalse(myList):\n",
    "    for key, value in myList.items():\n",
    "        myList[key] = False\n",
    "    return myList"
   ]
  },
  {
   "cell_type": "code",
   "execution_count": null,
   "metadata": {},
   "outputs": [],
   "source": [
    "\n",
    "category_counts = {\n",
    "    'comedy' : 0,\n",
    "    'science' : 0,\n",
    "    'music' : 0,\n",
    "    'sports' : 0,\n",
    "    'business' : 0,\n",
    "    'movies' : 0,\n",
    "    'writer' : 0\n",
    "}\n",
    "\n",
    "category_found = {\n",
    "    'comedy' : False,\n",
    "    'science' : False,\n",
    "    'music' : False,\n",
    "    'sports' : False,\n",
    "    'business' : False,\n",
    "    'movies' : False,\n",
    "    'writer' : False\n",
    "}\n",
    "\n",
    "\n",
    "for column in df['category']:\n",
    "    for cat in column:\n",
    "        for mainCat in catList:\n",
    "            if cat in category_subsets[mainCat] and not category_found[mainCat]:\n",
    "                category_counts[mainCat] += 1\n",
    "                category_found[mainCat] = True\n",
    "    \n",
    "    changeListToFalse(category_found)       \n",
    "            \n",
    "    \n",
    "    \n",
    "print(category_counts)"
   ]
  },
  {
   "cell_type": "code",
   "execution_count": null,
   "metadata": {},
   "outputs": [],
   "source": [
    "df = df.explode('category')\n",
    "\n",
    "df.tail()"
   ]
  },
  {
   "cell_type": "code",
   "execution_count": null,
   "metadata": {},
   "outputs": [],
   "source": [
    "comedyDF = df.loc[df['category'].isin(category_subsets['comedy'])]\n",
    "\n",
    "comedyDF.tail()"
   ]
  },
  {
   "cell_type": "code",
   "execution_count": null,
   "metadata": {},
   "outputs": [],
   "source": [
    "scienceDF = df.loc[df['category'].isin(category_subsets['science'])]\n",
    "\n",
    "scienceDF.tail()"
   ]
  },
  {
   "cell_type": "code",
   "execution_count": null,
   "metadata": {},
   "outputs": [],
   "source": [
    "musicDF = df.loc[df['category'].isin(category_subsets['music'])]\n",
    "\n",
    "musicDF.tail()"
   ]
  },
  {
   "cell_type": "code",
   "execution_count": null,
   "metadata": {},
   "outputs": [],
   "source": [
    "sportsDF = df.loc[df['category'].isin(category_subsets['sports'])]\n",
    "\n",
    "sportsDF.tail()"
   ]
  },
  {
   "cell_type": "code",
   "execution_count": null,
   "metadata": {},
   "outputs": [],
   "source": [
    "businessDF = df.loc[df['category'].isin(category_subsets['business'])]\n",
    "\n",
    "businessDF.tail()"
   ]
  },
  {
   "cell_type": "code",
   "execution_count": null,
   "metadata": {},
   "outputs": [],
   "source": [
    "moviesDF = df.loc[df['category'].isin(category_subsets['movies'])]\n",
    "\n",
    "moviesDF.tail()"
   ]
  },
  {
   "cell_type": "code",
   "execution_count": null,
   "metadata": {},
   "outputs": [],
   "source": [
    "writerDF = df.loc[df['category'].isin(category_subsets['writer'])]\n",
    "\n",
    "writerDF.tail()"
   ]
  },
  {
   "attachments": {},
   "cell_type": "markdown",
   "metadata": {},
   "source": [
    "# Save and Load CSV Files"
   ]
  },
  {
   "cell_type": "code",
   "execution_count": null,
   "metadata": {},
   "outputs": [],
   "source": [
    "# Save to CSV To Reuse\n",
    "df.to_csv('data_files/podcast_data.csv', index=False)"
   ]
  },
  {
   "cell_type": "code",
   "execution_count": null,
   "metadata": {},
   "outputs": [],
   "source": [
    "# Pull Shows From CSV\n",
    "df = pd.read_csv('data_files/podcast_data.csv')\n",
    "df.head()"
   ]
  },
  {
   "cell_type": "code",
   "execution_count": null,
   "metadata": {},
   "outputs": [],
   "source": []
  }
 ],
 "metadata": {
  "kernelspec": {
   "display_name": "Python 3",
   "language": "python",
   "name": "python3"
  },
  "language_info": {
   "codemirror_mode": {
    "name": "ipython",
    "version": 3
   },
   "file_extension": ".py",
   "mimetype": "text/x-python",
   "name": "python",
   "nbconvert_exporter": "python",
   "pygments_lexer": "ipython3",
   "version": "3.11.2"
  },
  "orig_nbformat": 4
 },
 "nbformat": 4,
 "nbformat_minor": 2
}
