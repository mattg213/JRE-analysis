{
 "cells": [
  {
   "cell_type": "code",
   "execution_count": null,
   "metadata": {},
   "outputs": [],
   "source": [
    "import spotipy\n",
    "from spotipy.oauth2 import SpotifyClientCredentials\n",
    "from api_keys import client_id, client_secret\n",
    "\n",
    "from keywords import keywords\n",
    "\n",
    "import pandas as pd\n",
    "import re\n",
    "\n",
    "sp = spotipy.Spotify(auth_manager=SpotifyClientCredentials(client_id=client_id, client_secret=client_secret))"
   ]
  },
  {
   "cell_type": "code",
   "execution_count": null,
   "metadata": {},
   "outputs": [],
   "source": [
    "# Get total number of episodes for the show\n",
    "show_id = '4rOoJ6Egrf8K2IrywzwOMk'\n",
    "podcast = sp.show(show_id=show_id, market='US')\n",
    "\n",
    "total_episodes = podcast['total_episodes']\n",
    "\n",
    "print(total_episodes)"
   ]
  },
  {
   "attachments": {},
   "cell_type": "markdown",
   "metadata": {},
   "source": [
    "# Use this cell if you need to get data from API"
   ]
  },
  {
   "cell_type": "code",
   "execution_count": null,
   "metadata": {},
   "outputs": [],
   "source": [
    "# Get data for all shows\n",
    "showNum = 0\n",
    "data = []\n",
    "# Pagination for show requests\n",
    "while showNum <= total_episodes:\n",
    "    print(\"Current Show Count: \", showNum)\n",
    "    result = sp.show_episodes(show_id=show_id, limit=50, offset=showNum, market='US')\n",
    "\n",
    "    episodes = result['items']\n",
    "\n",
    "    # Loop through the 50 episodes requested\n",
    "    for episode in episodes:\n",
    "        title = episode['name']\n",
    "        description = episode['description']\n",
    "        duration_ms = episode['duration_ms']\n",
    "        release_date = episode['release_date']\n",
    "        \n",
    "        myEpisode = {\n",
    "            'title' : title,\n",
    "            'description' : description,\n",
    "            'duration_ms' : duration_ms,\n",
    "            'release_date' : release_date\n",
    "        }\n",
    "        \n",
    "        data.append(myEpisode)\n",
    "    showNum += 50\n",
    "\n",
    "print(len(data))"
   ]
  },
  {
   "cell_type": "code",
   "execution_count": null,
   "metadata": {},
   "outputs": [],
   "source": [
    "# Create DF from data\n",
    "df = pd.DataFrame(data)\n",
    "df.head()"
   ]
  },
  {
   "cell_type": "code",
   "execution_count": null,
   "metadata": {},
   "outputs": [],
   "source": [
    "# Change MS column to Seconds\n",
    "df['duration_ms'] = df['duration_ms'].apply(lambda x: float(x / 60000))\n",
    "df.head()"
   ]
  },
  {
   "cell_type": "code",
   "execution_count": null,
   "metadata": {},
   "outputs": [],
   "source": [
    "# Rename Column\n",
    "df.rename(columns={'duration_ms' : 'duration_seconds'})"
   ]
  },
  {
   "cell_type": "code",
   "execution_count": null,
   "metadata": {},
   "outputs": [],
   "source": [
    "# Split release date into seperate columns\n",
    "df['release_date'] = df['release_date'].astype('datetime64[ns]')\n",
    "df['day'] = df['release_date'].map(lambda x: x.day)\n",
    "df['month'] = df['release_date'].map(lambda x: x.month)\n",
    "df['year'] = df['release_date'].map(lambda x: x.year)\n",
    "df.head()"
   ]
  },
  {
   "cell_type": "code",
   "execution_count": null,
   "metadata": {},
   "outputs": [],
   "source": [
    "# Find guest in show\n",
    "guests = []\n",
    "for row in df['title']:\n",
    "    guest = re.findall(r\"[A-Z][a-z]+,?\\s+(?:[A-Z][a-z]*\\.?\\s*)?[A-Z][a-z]+\", row)\n",
    "    if guest:\n",
    "         guests.append(guest[0])\n",
    "    else:\n",
    "        guests.append(pd.NaT)\n",
    "df['guest'] = guests\n",
    "df.head()"
   ]
  },
  {
   "cell_type": "code",
   "execution_count": null,
   "metadata": {},
   "outputs": [],
   "source": [
    "df['guest'].count"
   ]
  },
  {
   "cell_type": "code",
   "execution_count": null,
   "metadata": {},
   "outputs": [],
   "source": [
    "df.dropna()"
   ]
  },
  {
   "attachments": {},
   "cell_type": "markdown",
   "metadata": {},
   "source": [
    "# Use these cells if you already have CSV File"
   ]
  },
  {
   "cell_type": "code",
   "execution_count": null,
   "metadata": {},
   "outputs": [],
   "source": [
    "# Pull Shows From CSV\n",
    "df = pd.read_csv('data_files/podcast_data.csv')\n",
    "df.head()"
   ]
  },
  {
   "cell_type": "code",
   "execution_count": null,
   "metadata": {},
   "outputs": [],
   "source": [
    "# Save to CSV To Reuse\n",
    "df.to_csv('data_files/podcast_data.csv', index=False)"
   ]
  },
  {
   "cell_type": "code",
   "execution_count": null,
   "metadata": {},
   "outputs": [],
   "source": [
    "from keywords import keywordsList"
   ]
  },
  {
   "cell_type": "code",
   "execution_count": null,
   "metadata": {},
   "outputs": [],
   "source": [
    "keywords = [\n",
    "    'comedian',\n",
    "    'comic',\n",
    "    \"phd\",\n",
    "    'actor',\n",
    "    'writer',\n",
    "    'author',\n",
    "    'ufc',\n",
    "    'musician',\n",
    "    'artist',\n",
    "    'founder',\n",
    "    'youtuber',\n",
    "    'podcast',\n",
    "    'ceo',\n",
    "    'philanthropist',\n",
    "    'singer/songwriter',\n",
    "    'screenwriter',\n",
    "    'scientist',\n",
    "    'co-host',\n",
    "    'journalist',\n",
    "    'entrepreneur',\n",
    "    'astrophysicist',\n",
    "    'politician',\n",
    "    'pilot'\n",
    "]"
   ]
  },
  {
   "cell_type": "code",
   "execution_count": null,
   "metadata": {},
   "outputs": [],
   "source": [
    "dataset = []\n",
    "for desc in df['description']:\n",
    "    newDesc = desc.lower()\n",
    "    newDesc = newDesc.replace(',', '')\n",
    "    newDesc = newDesc.replace('.', '')\n",
    "    split = set(newDesc.split())\n",
    "    found = split.intersection(keywords) \n",
    "    if found:\n",
    "        dataset.append(found)\n",
    "    else:\n",
    "        dataset.append(pd.NaT)\n",
    "    \n",
    "df['category'] = dataset\n",
    "df.head()"
   ]
  },
  {
   "cell_type": "code",
   "execution_count": null,
   "metadata": {},
   "outputs": [],
   "source": [
    "df = df.dropna()"
   ]
  },
  {
   "cell_type": "code",
   "execution_count": null,
   "metadata": {},
   "outputs": [],
   "source": [
    "df.tail()"
   ]
  },
  {
   "cell_type": "code",
   "execution_count": null,
   "metadata": {},
   "outputs": [],
   "source": [
    "category_subsets = {\n",
    "    'comedy'   : ['comedian', 'comic', 'stand-up'],\n",
    "    'science'  : ['phd', 'astrophysicist', 'scientist'],\n",
    "    'music'    : ['singer/songwriter', 'musician', 'artist'],\n",
    "    'sports'   : ['ufc', 'nfl', 'mlb', 'nba', 'nhl'],\n",
    "    'business' : ['founder', 'entrepreneur', 'ceo'],\n",
    "    'movies'   : ['actor', 'screenwriter'],\n",
    "    'writer'   : ['author', 'writer'],\n",
    "}\n",
    "\n",
    "catList = ['comedy', 'science', 'music', 'sports', 'business', 'movies', 'writer']"
   ]
  },
  {
   "cell_type": "code",
   "execution_count": null,
   "metadata": {},
   "outputs": [],
   "source": [
    "category_counts = {\n",
    "    'comedy' : 0,\n",
    "    'science' : 0,\n",
    "    'music' : 0,\n",
    "    'sports' : 0,\n",
    "    'business' : 0,\n",
    "    'movies' : 0,\n",
    "    'writer' : 0\n",
    "}\n",
    "\n",
    "\n",
    "for myList in df['category']:\n",
    "    for cat in myList:\n",
    "        for mainCat in catList:\n",
    "            if cat in category_subsets[mainCat]:\n",
    "                category_counts[mainCat] += 1\n",
    "    \n",
    "    \n",
    "print(category_counts)"
   ]
  },
  {
   "cell_type": "code",
   "execution_count": null,
   "metadata": {},
   "outputs": [],
   "source": [
    "comedy_df = pd.DataFrame()\n",
    "comedy_df['title'] = ''\n",
    "comedy_df['description'] = ''\n",
    "comedy_df['duration_ms'] = ''\n",
    "comedy_df['release_date'] = ''\n",
    "comedy_df['day'] = ''\n",
    "comedy_df['month'] = ''\n",
    "comedy_df['year'] = ''\n",
    "comedy_df['guest'] = ''\n",
    "comedy_df['category'] = ''\n",
    "\n",
    "for i, row in df.iterrows():\n",
    "    myList = row['category']\n",
    "    for cat in myList:\n",
    "        if cat in category_subsets['comedy']:\n",
    "            frame = row.to_frame()\n",
    "            comedy_df.merge(frame)\n",
    "            \n",
    "comedy_df.tail()\n",
    "              "
   ]
  },
  {
   "cell_type": "code",
   "execution_count": null,
   "metadata": {},
   "outputs": [],
   "source": []
  }
 ],
 "metadata": {
  "kernelspec": {
   "display_name": "Python 3",
   "language": "python",
   "name": "python3"
  },
  "language_info": {
   "codemirror_mode": {
    "name": "ipython",
    "version": 3
   },
   "file_extension": ".py",
   "mimetype": "text/x-python",
   "name": "python",
   "nbconvert_exporter": "python",
   "pygments_lexer": "ipython3",
   "version": "3.11.2"
  },
  "orig_nbformat": 4
 },
 "nbformat": 4,
 "nbformat_minor": 2
}
