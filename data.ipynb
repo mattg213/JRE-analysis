{
 "cells": [
  {
   "cell_type": "code",
   "execution_count": 48,
   "metadata": {},
   "outputs": [],
   "source": [
    "import spotipy\n",
    "from spotipy.oauth2 import SpotifyClientCredentials\n",
    "from api_keys import client_id, client_secret\n",
    "\n",
    "import pandas as pd\n",
    "\n",
    "sp = spotipy.Spotify(auth_manager=SpotifyClientCredentials(client_id=client_id, client_secret=client_secret))"
   ]
  },
  {
   "cell_type": "code",
   "execution_count": 44,
   "metadata": {},
   "outputs": [
    {
     "name": "stdout",
     "output_type": "stream",
     "text": [
      "2112\n"
     ]
    }
   ],
   "source": [
    "show_id = '4rOoJ6Egrf8K2IrywzwOMk'\n",
    "podcast = sp.show(show_id=show_id, market='US')\n",
    "\n",
    "total_episodes = podcast['total_episodes']\n",
    "\n",
    "print(total_episodes)"
   ]
  },
  {
   "cell_type": "code",
   "execution_count": 47,
   "metadata": {},
   "outputs": [
    {
     "name": "stdout",
     "output_type": "stream",
     "text": [
      "Current Show Count:  0\n",
      "Current Show Count:  50\n",
      "Current Show Count:  100\n",
      "Current Show Count:  150\n",
      "Current Show Count:  200\n",
      "Current Show Count:  250\n",
      "Current Show Count:  300\n",
      "Current Show Count:  350\n",
      "Current Show Count:  400\n",
      "Current Show Count:  450\n",
      "Current Show Count:  500\n",
      "Current Show Count:  550\n",
      "Current Show Count:  600\n",
      "Current Show Count:  650\n",
      "Current Show Count:  700\n",
      "Current Show Count:  750\n",
      "Current Show Count:  800\n",
      "Current Show Count:  850\n",
      "Current Show Count:  900\n",
      "Current Show Count:  950\n",
      "Current Show Count:  1000\n",
      "Current Show Count:  1050\n",
      "Current Show Count:  1100\n",
      "Current Show Count:  1150\n",
      "Current Show Count:  1200\n",
      "Current Show Count:  1250\n",
      "Current Show Count:  1300\n",
      "Current Show Count:  1350\n",
      "Current Show Count:  1400\n",
      "Current Show Count:  1450\n",
      "Current Show Count:  1500\n",
      "Current Show Count:  1550\n",
      "Current Show Count:  1600\n",
      "Current Show Count:  1650\n",
      "Current Show Count:  1700\n",
      "Current Show Count:  1750\n",
      "Current Show Count:  1800\n",
      "Current Show Count:  1850\n",
      "Current Show Count:  1900\n",
      "Current Show Count:  1950\n",
      "Current Show Count:  2000\n",
      "Current Show Count:  2050\n",
      "Current Show Count:  2100\n",
      "2111\n"
     ]
    }
   ],
   "source": [
    "# Get data for all shows\n",
    "showNum = 0\n",
    "data = []\n",
    "while showNum <= total_episodes:\n",
    "    print(\"Current Show Count: \", showNum)\n",
    "    result = sp.show_episodes(show_id=show_id, limit=50, offset=showNum, market='US')\n",
    "\n",
    "    episodes = result['items']\n",
    "\n",
    "    for episode in episodes:\n",
    "        title = episode['name']\n",
    "        description = episode['description']\n",
    "        duration_ms = episode['duration_ms']\n",
    "        release_date = episode['release_date']\n",
    "        \n",
    "        myEpisode = {\n",
    "            'title' : title,\n",
    "            'description' : description,\n",
    "            'duration_ms' : duration_ms,\n",
    "            'release_date' : release_date\n",
    "        }\n",
    "        \n",
    "        data.append(myEpisode)\n",
    "    showNum += 50\n",
    "\n",
    "print(len(data))"
   ]
  },
  {
   "cell_type": "code",
   "execution_count": 53,
   "metadata": {},
   "outputs": [
    {
     "data": {
      "text/html": [
       "<div>\n",
       "<style scoped>\n",
       "    .dataframe tbody tr th:only-of-type {\n",
       "        vertical-align: middle;\n",
       "    }\n",
       "\n",
       "    .dataframe tbody tr th {\n",
       "        vertical-align: top;\n",
       "    }\n",
       "\n",
       "    .dataframe thead th {\n",
       "        text-align: right;\n",
       "    }\n",
       "</style>\n",
       "<table border=\"1\" class=\"dataframe\">\n",
       "  <thead>\n",
       "    <tr style=\"text-align: right;\">\n",
       "      <th></th>\n",
       "      <th>title</th>\n",
       "      <th>description</th>\n",
       "      <th>duration_ms</th>\n",
       "      <th>release_date</th>\n",
       "    </tr>\n",
       "  </thead>\n",
       "  <tbody>\n",
       "    <tr>\n",
       "      <th>2106</th>\n",
       "      <td>#5 - John Heffron, Ari Shaffir (Part 1)</td>\n",
       "      <td>Joe sits down with John Heffron, and Ari Shaffir.</td>\n",
       "      <td>3850170</td>\n",
       "      <td>2010-01-21</td>\n",
       "    </tr>\n",
       "    <tr>\n",
       "      <th>2107</th>\n",
       "      <td>#5 - John Heffron, Ari Shaffir (Part 2)</td>\n",
       "      <td>Joe sits down with John Heffron, and Ari Shaffir.</td>\n",
       "      <td>4376218</td>\n",
       "      <td>2010-01-21</td>\n",
       "    </tr>\n",
       "    <tr>\n",
       "      <th>2108</th>\n",
       "      <td>#3 - Ari Shaffir</td>\n",
       "      <td>Joe sits down with Ari Shaffir.</td>\n",
       "      <td>8099236</td>\n",
       "      <td>2010-01-06</td>\n",
       "    </tr>\n",
       "    <tr>\n",
       "      <th>2109</th>\n",
       "      <td>#2 - Brian Redban</td>\n",
       "      <td>Joe sits down with Brian Redban.</td>\n",
       "      <td>9126463</td>\n",
       "      <td>2009-12-29</td>\n",
       "    </tr>\n",
       "    <tr>\n",
       "      <th>2110</th>\n",
       "      <td>#1 - Brian Redban</td>\n",
       "      <td>Joe sits down with Brian Redban.</td>\n",
       "      <td>7334417</td>\n",
       "      <td>2009-12-24</td>\n",
       "    </tr>\n",
       "  </tbody>\n",
       "</table>\n",
       "</div>"
      ],
      "text/plain": [
       "                                        title  \\\n",
       "2106  #5 - John Heffron, Ari Shaffir (Part 1)   \n",
       "2107  #5 - John Heffron, Ari Shaffir (Part 2)   \n",
       "2108                         #3 - Ari Shaffir   \n",
       "2109                        #2 - Brian Redban   \n",
       "2110                        #1 - Brian Redban   \n",
       "\n",
       "                                            description  duration_ms  \\\n",
       "2106  Joe sits down with John Heffron, and Ari Shaffir.      3850170   \n",
       "2107  Joe sits down with John Heffron, and Ari Shaffir.      4376218   \n",
       "2108                    Joe sits down with Ari Shaffir.      8099236   \n",
       "2109                   Joe sits down with Brian Redban.      9126463   \n",
       "2110                   Joe sits down with Brian Redban.      7334417   \n",
       "\n",
       "     release_date  \n",
       "2106   2010-01-21  \n",
       "2107   2010-01-21  \n",
       "2108   2010-01-06  \n",
       "2109   2009-12-29  \n",
       "2110   2009-12-24  "
      ]
     },
     "execution_count": 53,
     "metadata": {},
     "output_type": "execute_result"
    }
   ],
   "source": [
    "df = pd.DataFrame(data)\n",
    "df.tail()"
   ]
  },
  {
   "cell_type": "code",
   "execution_count": null,
   "metadata": {},
   "outputs": [],
   "source": []
  }
 ],
 "metadata": {
  "kernelspec": {
   "display_name": "Python 3",
   "language": "python",
   "name": "python3"
  },
  "language_info": {
   "codemirror_mode": {
    "name": "ipython",
    "version": 3
   },
   "file_extension": ".py",
   "mimetype": "text/x-python",
   "name": "python",
   "nbconvert_exporter": "python",
   "pygments_lexer": "ipython3",
   "version": "3.11.2"
  },
  "orig_nbformat": 4
 },
 "nbformat": 4,
 "nbformat_minor": 2
}
